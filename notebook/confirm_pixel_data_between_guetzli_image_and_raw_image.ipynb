{
 "cells": [
  {
   "cell_type": "markdown",
   "metadata": {},
   "source": [
    "# OpenCVで読み込んだ時, Guetzliした後のデータとする前のデータでピクセルの値は異なるのかを検証"
   ]
  },
  {
   "cell_type": "code",
   "execution_count": 1,
   "metadata": {
    "collapsed": true
   },
   "outputs": [],
   "source": [
    "import cv2"
   ]
  },
  {
   "cell_type": "code",
   "execution_count": 2,
   "metadata": {
    "collapsed": true
   },
   "outputs": [],
   "source": [
    "# guetzliした後のデータ\n",
    "g_image = cv2.imread(\"../opt_images/0.jpg\")\n",
    "\n",
    "# guetzliする前のデータ\n",
    "image = cv2.imread(\"../resized_images/0.jpg\")"
   ]
  },
  {
   "cell_type": "code",
   "execution_count": 3,
   "metadata": {
    "collapsed": false
   },
   "outputs": [
    {
     "data": {
      "text/plain": [
       "array([[[238, 238, 250],\n",
       "        [238, 238, 250],\n",
       "        [238, 238, 250],\n",
       "        ..., \n",
       "        [240, 238, 250],\n",
       "        [240, 238, 250],\n",
       "        [240, 238, 250]],\n",
       "\n",
       "       [[240, 238, 250],\n",
       "        [240, 238, 250],\n",
       "        [240, 238, 250],\n",
       "        ..., \n",
       "        [240, 238, 250],\n",
       "        [240, 238, 250],\n",
       "        [240, 238, 250]],\n",
       "\n",
       "       [[240, 238, 250],\n",
       "        [240, 238, 250],\n",
       "        [240, 238, 250],\n",
       "        ..., \n",
       "        [240, 238, 250],\n",
       "        [240, 238, 250],\n",
       "        [240, 238, 250]],\n",
       "\n",
       "       ..., \n",
       "       [[236, 229, 244],\n",
       "        [236, 229, 244],\n",
       "        [236, 229, 244],\n",
       "        ..., \n",
       "        [236, 231, 246],\n",
       "        [236, 231, 246],\n",
       "        [236, 231, 246]],\n",
       "\n",
       "       [[236, 229, 244],\n",
       "        [236, 229, 244],\n",
       "        [236, 229, 244],\n",
       "        ..., \n",
       "        [236, 231, 246],\n",
       "        [236, 231, 246],\n",
       "        [236, 231, 246]],\n",
       "\n",
       "       [[236, 229, 244],\n",
       "        [236, 229, 244],\n",
       "        [236, 229, 244],\n",
       "        ..., \n",
       "        [236, 231, 246],\n",
       "        [236, 231, 246],\n",
       "        [236, 231, 246]]], dtype=uint8)"
      ]
     },
     "execution_count": 3,
     "metadata": {},
     "output_type": "execute_result"
    }
   ],
   "source": [
    "g_image"
   ]
  },
  {
   "cell_type": "code",
   "execution_count": 4,
   "metadata": {
    "collapsed": false
   },
   "outputs": [
    {
     "data": {
      "text/plain": [
       "array([[[238, 238, 250],\n",
       "        [238, 238, 250],\n",
       "        [238, 238, 250],\n",
       "        ..., \n",
       "        [240, 238, 250],\n",
       "        [240, 238, 250],\n",
       "        [240, 238, 250]],\n",
       "\n",
       "       [[240, 238, 250],\n",
       "        [240, 238, 250],\n",
       "        [240, 238, 250],\n",
       "        ..., \n",
       "        [240, 238, 250],\n",
       "        [240, 238, 250],\n",
       "        [240, 238, 250]],\n",
       "\n",
       "       [[240, 238, 250],\n",
       "        [240, 238, 250],\n",
       "        [240, 238, 250],\n",
       "        ..., \n",
       "        [240, 238, 250],\n",
       "        [240, 238, 250],\n",
       "        [240, 238, 250]],\n",
       "\n",
       "       ..., \n",
       "       [[236, 229, 244],\n",
       "        [236, 229, 244],\n",
       "        [236, 229, 244],\n",
       "        ..., \n",
       "        [236, 231, 246],\n",
       "        [236, 231, 246],\n",
       "        [236, 231, 246]],\n",
       "\n",
       "       [[236, 229, 244],\n",
       "        [236, 229, 244],\n",
       "        [236, 229, 244],\n",
       "        ..., \n",
       "        [236, 231, 246],\n",
       "        [236, 231, 246],\n",
       "        [236, 231, 246]],\n",
       "\n",
       "       [[236, 229, 244],\n",
       "        [236, 229, 244],\n",
       "        [236, 229, 244],\n",
       "        ..., \n",
       "        [236, 231, 246],\n",
       "        [236, 231, 246],\n",
       "        [236, 231, 246]]], dtype=uint8)"
      ]
     },
     "execution_count": 4,
     "metadata": {},
     "output_type": "execute_result"
    }
   ],
   "source": [
    "g_image"
   ]
  },
  {
   "cell_type": "code",
   "execution_count": null,
   "metadata": {
    "collapsed": true
   },
   "outputs": [],
   "source": [
    "g_image == "
   ]
  }
 ],
 "metadata": {
  "kernelspec": {
   "display_name": "Python [Root]",
   "language": "python",
   "name": "Python [Root]"
  },
  "language_info": {
   "codemirror_mode": {
    "name": "ipython",
    "version": 3
   },
   "file_extension": ".py",
   "mimetype": "text/x-python",
   "name": "python",
   "nbconvert_exporter": "python",
   "pygments_lexer": "ipython3",
   "version": "3.5.1"
  }
 },
 "nbformat": 4,
 "nbformat_minor": 0
}
